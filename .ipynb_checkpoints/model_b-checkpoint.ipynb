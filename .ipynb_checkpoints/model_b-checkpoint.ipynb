{
 "cells": [
  {
   "cell_type": "code",
   "execution_count": 1,
   "metadata": {},
   "outputs": [],
   "source": [
    "import numpy as np\n",
    "import pandas as pd\n",
    "import matplotlib.pyplot as plt\n",
    "plt.style.use('ggplot')"
   ]
  },
  {
   "cell_type": "code",
   "execution_count": 2,
   "metadata": {},
   "outputs": [],
   "source": [
    "import outgas_calc as calc"
   ]
  },
  {
   "cell_type": "markdown",
   "metadata": {},
   "source": [
    "# Python Impurity Model B\n",
    "Starting from the ground up. Less modularity for now. Contains specific references to certain datasets from a PTFE/Oxygen setup.\n",
    "## Constants\n",
    "The following are constants for the Teflon/Oxygen pair."
   ]
  },
  {
   "cell_type": "code",
   "execution_count": 3,
   "metadata": {},
   "outputs": [],
   "source": [
    "ACTIVATION_ENERGY = 0.46 # activation energy in eV\n",
    "D_0 = 26 # Diffusion constant at infinite temperature, in cm^2/s\n",
    "SOLUBILITY = 0.22 # fractional volume of gas per volume of polymer\n",
    "O2_ABUNDANCE = 0.21\n",
    "ATMOS_PRESSURE = 101325 # in Pa\n",
    "INITIAL_TEMP = 273 # in kelvin\n",
    "THICKNESS = 0.75 # of sample, in cm"
   ]
  },
  {
   "cell_type": "markdown",
   "metadata": {},
   "source": [
    "## Data Import"
   ]
  },
  {
   "cell_type": "code",
   "execution_count": 4,
   "metadata": {},
   "outputs": [
    {
     "data": {
      "text/html": [
       "<div>\n",
       "<style scoped>\n",
       "    .dataframe tbody tr th:only-of-type {\n",
       "        vertical-align: middle;\n",
       "    }\n",
       "\n",
       "    .dataframe tbody tr th {\n",
       "        vertical-align: top;\n",
       "    }\n",
       "\n",
       "    .dataframe thead th {\n",
       "        text-align: right;\n",
       "    }\n",
       "</style>\n",
       "<table border=\"1\" class=\"dataframe\">\n",
       "  <thead>\n",
       "    <tr style=\"text-align: right;\">\n",
       "      <th></th>\n",
       "      <th>t</th>\n",
       "      <th>min_T</th>\n",
       "      <th>med_T</th>\n",
       "      <th>max_T</th>\n",
       "    </tr>\n",
       "  </thead>\n",
       "  <tbody>\n",
       "    <tr>\n",
       "      <th>0</th>\n",
       "      <td>0</td>\n",
       "      <td>292.920990</td>\n",
       "      <td>293.150000</td>\n",
       "      <td>293.254650</td>\n",
       "    </tr>\n",
       "    <tr>\n",
       "      <th>1</th>\n",
       "      <td>1</td>\n",
       "      <td>293.150000</td>\n",
       "      <td>293.150033</td>\n",
       "      <td>300.743630</td>\n",
       "    </tr>\n",
       "    <tr>\n",
       "      <th>2</th>\n",
       "      <td>2</td>\n",
       "      <td>293.150026</td>\n",
       "      <td>293.151571</td>\n",
       "      <td>301.669913</td>\n",
       "    </tr>\n",
       "    <tr>\n",
       "      <th>3</th>\n",
       "      <td>3</td>\n",
       "      <td>293.150595</td>\n",
       "      <td>293.160096</td>\n",
       "      <td>302.015727</td>\n",
       "    </tr>\n",
       "    <tr>\n",
       "      <th>4</th>\n",
       "      <td>4</td>\n",
       "      <td>293.151643</td>\n",
       "      <td>293.174323</td>\n",
       "      <td>302.180704</td>\n",
       "    </tr>\n",
       "    <tr>\n",
       "      <th>...</th>\n",
       "      <td>...</td>\n",
       "      <td>...</td>\n",
       "      <td>...</td>\n",
       "      <td>...</td>\n",
       "    </tr>\n",
       "    <tr>\n",
       "      <th>3596</th>\n",
       "      <td>3596</td>\n",
       "      <td>303.149985</td>\n",
       "      <td>303.149988</td>\n",
       "      <td>303.150000</td>\n",
       "    </tr>\n",
       "    <tr>\n",
       "      <th>3597</th>\n",
       "      <td>3597</td>\n",
       "      <td>303.149985</td>\n",
       "      <td>303.149988</td>\n",
       "      <td>303.150000</td>\n",
       "    </tr>\n",
       "    <tr>\n",
       "      <th>3598</th>\n",
       "      <td>3598</td>\n",
       "      <td>303.149985</td>\n",
       "      <td>303.149988</td>\n",
       "      <td>303.150000</td>\n",
       "    </tr>\n",
       "    <tr>\n",
       "      <th>3599</th>\n",
       "      <td>3599</td>\n",
       "      <td>303.149985</td>\n",
       "      <td>303.149988</td>\n",
       "      <td>303.150000</td>\n",
       "    </tr>\n",
       "    <tr>\n",
       "      <th>3600</th>\n",
       "      <td>3600</td>\n",
       "      <td>303.149985</td>\n",
       "      <td>303.149988</td>\n",
       "      <td>303.150000</td>\n",
       "    </tr>\n",
       "  </tbody>\n",
       "</table>\n",
       "<p>3601 rows × 4 columns</p>\n",
       "</div>"
      ],
      "text/plain": [
       "         t       min_T       med_T       max_T\n",
       "0        0  292.920990  293.150000  293.254650\n",
       "1        1  293.150000  293.150033  300.743630\n",
       "2        2  293.150026  293.151571  301.669913\n",
       "3        3  293.150595  293.160096  302.015727\n",
       "4        4  293.151643  293.174323  302.180704\n",
       "...    ...         ...         ...         ...\n",
       "3596  3596  303.149985  303.149988  303.150000\n",
       "3597  3597  303.149985  303.149988  303.150000\n",
       "3598  3598  303.149985  303.149988  303.150000\n",
       "3599  3599  303.149985  303.149988  303.150000\n",
       "3600  3600  303.149985  303.149988  303.150000\n",
       "\n",
       "[3601 rows x 4 columns]"
      ]
     },
     "execution_count": 4,
     "metadata": {},
     "output_type": "execute_result"
    }
   ],
   "source": [
    "full_data = pd.read_csv('setup4_cline_3T.csv', index_col=0)\n",
    "full_data"
   ]
  },
  {
   "cell_type": "markdown",
   "metadata": {},
   "source": [
    "For now, let's just use the centerline median temperature data."
   ]
  },
  {
   "cell_type": "code",
   "execution_count": 5,
   "metadata": {},
   "outputs": [],
   "source": [
    "#times = full_data['t'].to_numpy()\n",
    "median_temps = full_data['med_T'].to_numpy()"
   ]
  },
  {
   "cell_type": "code",
   "execution_count": 6,
   "metadata": {},
   "outputs": [],
   "source": [
    "# room temperature only as a check\n",
    "room_temp = np.zeros(3601)\n",
    "room_temp.fill(293)"
   ]
  },
  {
   "cell_type": "code",
   "execution_count": 7,
   "metadata": {},
   "outputs": [],
   "source": [
    "# 1 hour of room temperature, 1 hour of heating\n",
    "synth_run = np.concatenate((room_temp, median_temps))\n",
    "times = np.arange(synth_run.shape[0])"
   ]
  },
  {
   "cell_type": "markdown",
   "metadata": {},
   "source": [
    "Calculate the initial concentration of $O_2$ in the sample. Last constant of the setup."
   ]
  },
  {
   "cell_type": "code",
   "execution_count": 8,
   "metadata": {},
   "outputs": [
    {
     "data": {
      "text/plain": [
       "1.241658775692085e+18"
      ]
     },
     "execution_count": 8,
     "metadata": {},
     "output_type": "execute_result"
    }
   ],
   "source": [
    "c_0 = calc.get_initial_concentration(SOLUBILITY, O2_ABUNDANCE, ATMOS_PRESSURE, INITIAL_TEMP) # result in cm^-3\n",
    "c_0"
   ]
  },
  {
   "cell_type": "markdown",
   "metadata": {},
   "source": [
    "Calculate the diffusion constants for all temperatures in the dataset."
   ]
  },
  {
   "cell_type": "code",
   "execution_count": 9,
   "metadata": {},
   "outputs": [],
   "source": [
    "diff_consts = calc.arrhenius_relation(D_0, ACTIVATION_ENERGY, synth_run)\n",
    "#room_temp_diffs = calc.arrhenius_relation(D_0, ACTIVATION_ENERGY, room_temp)\n",
    "#diff_consts"
   ]
  },
  {
   "cell_type": "code",
   "execution_count": 10,
   "metadata": {},
   "outputs": [
    {
     "data": {
      "image/png": "[encoded data removed]",
      "text/plain": [
       "<Figure size 864x576 with 1 Axes>"
      ]
     },
     "metadata": {},
     "output_type": "display_data"
    }
   ],
   "source": [
    "fig, ax = plt.subplots(figsize=(12,8))\n",
    "plt.plot(synth_run, diff_consts)\n",
    "plt.yscale(\"log\")\n",
    "plt.ylabel(\"Diffusion Coefficient [$cm^2/s$]\")\n",
    "plt.xlabel(\"Temperature [$K$]\")\n",
    "plt.show()"
   ]
  },
  {
   "cell_type": "markdown",
   "metadata": {},
   "source": [
    "Calculate the concentration and outgassing rate for the setup."
   ]
  },
  {
   "cell_type": "code",
   "execution_count": 11,
   "metadata": {},
   "outputs": [],
   "source": [
    "conc = calc.get_concentrations(c_0, diff_consts, THICKNESS, times)\n",
    "rates = calc.get_flow_rate(c_0, diff_consts, THICKNESS, times)"
   ]
  },
  {
   "cell_type": "code",
   "execution_count": 12,
   "metadata": {},
   "outputs": [
    {
     "ename": "NameError",
     "evalue": "name 'room_temp_diffs' is not defined",
     "output_type": "error",
     "traceback": [
      "\u001b[0;31m---------------------------------------------------------------------------\u001b[0m",
      "\u001b[0;31mNameError\u001b[0m                                 Traceback (most recent call last)",
      "\u001b[0;32m<ipython-input-12-0816f7a52640>\u001b[0m in \u001b[0;36m<module>\u001b[0;34m\u001b[0m\n\u001b[0;32m----> 1\u001b[0;31m \u001b[0mroom_temp_conc\u001b[0m \u001b[0;34m=\u001b[0m \u001b[0mcalc\u001b[0m\u001b[0;34m.\u001b[0m\u001b[0mget_concentrations\u001b[0m\u001b[0;34m(\u001b[0m\u001b[0mc_0\u001b[0m\u001b[0;34m,\u001b[0m \u001b[0mroom_temp_diffs\u001b[0m\u001b[0;34m,\u001b[0m \u001b[0mTHICKNESS\u001b[0m\u001b[0;34m,\u001b[0m \u001b[0mtimes\u001b[0m\u001b[0;34m)\u001b[0m\u001b[0;34m\u001b[0m\u001b[0;34m\u001b[0m\u001b[0m\n\u001b[0m\u001b[1;32m      2\u001b[0m \u001b[0;31m#room_temp_rates = calc.get_flow_rate(c_0, room_temp_diffs, THICKNESS, times)\u001b[0m\u001b[0;34m\u001b[0m\u001b[0;34m\u001b[0m\u001b[0;34m\u001b[0m\u001b[0m\n",
      "\u001b[0;31mNameError\u001b[0m: name 'room_temp_diffs' is not defined"
     ]
    }
   ],
   "source": [
    "#room_temp_conc = calc.get_concentrations(c_0, room_temp_diffs, THICKNESS, times)\n",
    "#room_temp_rates = calc.get_flow_rate(c_0, room_temp_diffs, THICKNESS, times)"
   ]
  },
  {
   "cell_type": "code",
   "execution_count": null,
   "metadata": {},
   "outputs": [],
   "source": [
    "fig, ax = plt.subplots(figsize=(12,8))\n",
    "plt.plot(times, conc, label='Heated')\n",
    "#plt.plot(times, room_temp_conc, label='Room Temperature')\n",
    "plt.yscale(\"log\")\n",
    "plt.ylabel(\"Concentration\")\n",
    "plt.xlabel(\"Time [s]\")\n",
    "#plt.legend()\n",
    "plt.show()"
   ]
  },
  {
   "cell_type": "code",
   "execution_count": null,
   "metadata": {},
   "outputs": [],
   "source": [
    "rates"
   ]
  },
  {
   "cell_type": "code",
   "execution_count": null,
   "metadata": {},
   "outputs": [],
   "source": [
    "fig, ax = plt.subplots(figsize=(12,8))\n",
    "plt.plot(times, rates, label='Heated')\n",
    "#plt.plot(times, room_temp_rates, label='Room Temperature')\n",
    "plt.yscale(\"log\")\n",
    "plt.ylabel(\"Outgassing Rate\")\n",
    "plt.xlabel(\"Time [s]\")\n",
    "#plt.legend()\n",
    "plt.show()"
   ]
  },
  {
   "cell_type": "code",
   "execution_count": null,
   "metadata": {},
   "outputs": [],
   "source": []
  }
 ],
 "metadata": {
  "kernelspec": {
   "display_name": "Python 3",
   "language": "python",
   "name": "python3"
  },
  "language_info": {
   "codemirror_mode": {
    "name": "ipython",
    "version": 3
   },
   "file_extension": ".py",
   "mimetype": "text/x-python",
   "name": "python",
   "nbconvert_exporter": "python",
   "pygments_lexer": "ipython3",
   "version": "3.8.1"
  }
 },
 "nbformat": 4,
 "nbformat_minor": 4
}
