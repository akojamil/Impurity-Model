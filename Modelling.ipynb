{
 "cells": [
  {
   "cell_type": "markdown",
   "metadata": {},
   "source": [
    "# Impurity Model for nEXO\n",
    "\n",
    "This Jupyter notebook was made so simply and easily plot the expected outgassing rate of a piece of material in a given system. "
   ]
  },
  {
   "cell_type": "markdown",
   "metadata": {},
   "source": [
    "## 1) Imports\n",
    "We start off by importing a few necessary packages."
   ]
  },
  {
   "cell_type": "code",
   "execution_count": 1,
   "metadata": {},
   "outputs": [],
   "source": [
    "import numpy as np\n",
    "import matplotlib.pyplot as plt\n",
    "from matplotlib.ticker import AutoMinorLocator, MultipleLocator"
   ]
  },
  {
   "cell_type": "markdown",
   "metadata": {},
   "source": [
    "Next we are goint to load the 3 pieces of code that contain all the information for this model. The first one is 'Library.py' which contains the parameters of various setups as well as materials to be used in that given setup. Before running this notebook you want to make sure that your combination of setup and material is entered correctly."
   ]
  },
  {
   "cell_type": "code",
   "execution_count": 2,
   "metadata": {},
   "outputs": [],
   "source": [
    "import Library as Lib \n",
    "import Outgassing as Out\n",
    "from RunModel import * "
   ]
  },
  {
   "cell_type": "markdown",
   "metadata": {},
   "source": [
    "## 2) Define System\n",
    "The class `System` will load the necessary information from `Library.py` by defining 4 key parameters: The name of the system (`Setup`), the material inside that setup that is outgassing (`Material`), the gas species that is dissolved inside the material (`Solute`) and the dimension of that piece of material (`Version`). \n",
    "In this example we want to plot the outgassing of oxygen from the piece of EXO-200 Teflon that we have at Yale. "
   ]
  },
  {
   "cell_type": "code",
   "execution_count": 3,
   "metadata": {},
   "outputs": [],
   "source": [
    "S1 = System(Setup='YLXPS', Material='Teflon', Solute='Oxygen', Version='EXO-Teflon')"
   ]
  },
  {
   "cell_type": "markdown",
   "metadata": {},
   "source": [
    "You can check the values that go into getting the outgassing for this particular setup by executing"
   ]
  },
  {
   "cell_type": "code",
   "execution_count": 4,
   "metadata": {},
   "outputs": [
    {
     "name": "stdout",
     "output_type": "stream",
     "text": [
      "Name: YLXPS\n",
      " Material: Teflon\n",
      " Solute: Oxygen\n",
      " Version: EXO-Teflon\n",
      " Constraints: []\n",
      " ConstraintIndex: []\n",
      " Diffusion: 3.14e-07\n",
      " Solubility: 0.22\n",
      " ActivationEnergy: 0.47\n",
      " Abundance: 0.21\n",
      " MolarMass: 32\n",
      " XeMass: 2170\n",
      " Volume: 0.0053\n",
      " Area: 390.32180000000005\n",
      " Thickness: 0.15\n"
     ]
    }
   ],
   "source": [
    "S1.Print() "
   ]
  },
  {
   "cell_type": "markdown",
   "metadata": {},
   "source": [
    "Sets time regions for the above defined temperature values. The first element of Points is always 0, followed by the end of the first region and then the end of the second region. This example code will give you $\\frac{100-0}{0.1}$ points from 0 to 100 and $\\frac{200-100}{0.1}$ points from 100 to 200."
   ]
  },
  {
   "cell_type": "code",
   "execution_count": 5,
   "metadata": {},
   "outputs": [
    {
     "name": "stderr",
     "output_type": "stream",
     "text": [
      "D:\\nEXO_Impurities\\RunModel.py:44: VisibleDeprecationWarning: Creating an ndarray from ragged nested sequences (which is a list-or-tuple of lists-or-tuples-or ndarrays with different lengths or shapes) is deprecated. If you meant to do this, you must specify 'dtype=object' when creating the ndarray\n",
      "  return np.array(X)\n"
     ]
    }
   ],
   "source": [
    "S1.Time = GetTimeStamps(Points=[0, 2, 20], Spacing=0.001, TimeScale='Days')"
   ]
  },
  {
   "cell_type": "markdown",
   "metadata": {},
   "source": [
    "Define the different temperatures for which to calculate outgassing. Note that `Temperature` should always be of type list even if only one value is used. Then add it to your setup. "
   ]
  },
  {
   "cell_type": "code",
   "execution_count": 6,
   "metadata": {},
   "outputs": [],
   "source": [
    "T1 = np.array([293.15]*len(S1.Time[0]))\n",
    "T3 = np.array([164.0]*len(S1.Time[1]))\n",
    "Temperature = [T1, T3]\n",
    "S1.Temp = Temperature  "
   ]
  },
  {
   "cell_type": "code",
   "execution_count": 7,
   "metadata": {},
   "outputs": [],
   "source": [
    "S1.Constraints = [1000000,10000000,1000000]"
   ]
  },
  {
   "cell_type": "markdown",
   "metadata": {},
   "source": [
    "## 3) Calculate Outgassing\n",
    "Calculate the diffusion constants for the above defined temperatures using the Arrhenius equation defined in `Outgassing.py`."
   ]
  },
  {
   "cell_type": "code",
   "execution_count": 8,
   "metadata": {},
   "outputs": [
    {
     "name": "stderr",
     "output_type": "stream",
     "text": [
      "C:\\Users\\Alex\\miniconda3\\envs\\nexo\\lib\\site-packages\\numpy\\core\\_asarray.py:83: VisibleDeprecationWarning: Creating an ndarray from ragged nested sequences (which is a list-or-tuple of lists-or-tuples-or ndarrays with different lengths or shapes) is deprecated. If you meant to do this, you must specify 'dtype=object' when creating the ndarray\n",
      "  return array(a, dtype, copy=False, order=order)\n"
     ]
    },
    {
     "ename": "TypeError",
     "evalue": "unsupported operand type(s) for *: 'float' and 'NoneType'",
     "output_type": "error",
     "traceback": [
      "\u001b[1;31m---------------------------------------------------------------------------\u001b[0m",
      "\u001b[1;31mTypeError\u001b[0m                                 Traceback (most recent call last)",
      "\u001b[1;32m<ipython-input-8-121ae7fd4c7f>\u001b[0m in \u001b[0;36m<module>\u001b[1;34m\u001b[0m\n\u001b[1;32m----> 1\u001b[1;33m \u001b[0mS1\u001b[0m\u001b[1;33m.\u001b[0m\u001b[0mDiffConstants\u001b[0m \u001b[1;33m=\u001b[0m \u001b[0mOut\u001b[0m\u001b[1;33m.\u001b[0m\u001b[0mGetDiffTemp\u001b[0m\u001b[1;33m(\u001b[0m\u001b[0mS1\u001b[0m\u001b[1;33m,\u001b[0m \u001b[0mTemperatures\u001b[0m\u001b[1;33m=\u001b[0m\u001b[0mS1\u001b[0m\u001b[1;33m.\u001b[0m\u001b[0mTemp\u001b[0m\u001b[1;33m,\u001b[0m \u001b[0mTimeScale\u001b[0m\u001b[1;33m=\u001b[0m\u001b[1;34m'Days'\u001b[0m\u001b[1;33m)\u001b[0m\u001b[1;33m\u001b[0m\u001b[1;33m\u001b[0m\u001b[0m\n\u001b[0m",
      "\u001b[1;32mD:\\nEXO_Impurities\\Outgassing.py\u001b[0m in \u001b[0;36mGetDiffTemp\u001b[1;34m(Data, Temperatures, TimeScale)\u001b[0m\n\u001b[0;32m    120\u001b[0m         \u001b[0mDiff\u001b[0m \u001b[1;33m=\u001b[0m \u001b[0mData\u001b[0m\u001b[1;33m.\u001b[0m\u001b[0mDiffusion\u001b[0m \u001b[1;33m*\u001b[0m \u001b[0mnp\u001b[0m\u001b[1;33m.\u001b[0m\u001b[0mexp\u001b[0m\u001b[1;33m(\u001b[0m\u001b[0mData\u001b[0m\u001b[1;33m.\u001b[0m\u001b[0mActivationEnergy\u001b[0m\u001b[1;33m/\u001b[0m\u001b[0mBoltzmann\u001b[0m \u001b[1;33m*\u001b[0m \u001b[1;33m(\u001b[0m\u001b[1;33m(\u001b[0m\u001b[1;36m1.0\u001b[0m\u001b[1;33m/\u001b[0m\u001b[1;36m293.15\u001b[0m\u001b[1;33m)\u001b[0m \u001b[1;33m-\u001b[0m \u001b[1;33m(\u001b[0m\u001b[1;36m1.0\u001b[0m\u001b[1;33m/\u001b[0m\u001b[0mTemp\u001b[0m\u001b[1;33m)\u001b[0m\u001b[1;33m)\u001b[0m\u001b[1;33m)\u001b[0m\u001b[1;33m\u001b[0m\u001b[1;33m\u001b[0m\u001b[0m\n\u001b[0;32m    121\u001b[0m         \u001b[0mDiffTemp\u001b[0m\u001b[1;33m.\u001b[0m\u001b[0mappend\u001b[0m\u001b[1;33m(\u001b[0m\u001b[0mDiff\u001b[0m\u001b[1;33m)\u001b[0m\u001b[1;33m\u001b[0m\u001b[1;33m\u001b[0m\u001b[0m\n\u001b[1;32m--> 122\u001b[1;33m     \u001b[1;32mreturn\u001b[0m \u001b[0mnp\u001b[0m\u001b[1;33m.\u001b[0m\u001b[0masarray\u001b[0m\u001b[1;33m(\u001b[0m\u001b[0mDiffTemp\u001b[0m\u001b[1;33m)\u001b[0m \u001b[1;33m*\u001b[0m \u001b[0mDoTimeConversion\u001b[0m\u001b[1;33m(\u001b[0m\u001b[0mTimeScale\u001b[0m\u001b[1;33m)\u001b[0m\u001b[1;33m\u001b[0m\u001b[1;33m\u001b[0m\u001b[0m\n\u001b[0m\u001b[0;32m    123\u001b[0m \u001b[1;33m\u001b[0m\u001b[0m\n\u001b[0;32m    124\u001b[0m     \u001b[0mTime\u001b[0m \u001b[1;33m=\u001b[0m \u001b[1;33m[\u001b[0m\u001b[1;36m0\u001b[0m\u001b[1;33m,\u001b[0m \u001b[1;36m12\u001b[0m\u001b[1;33m,\u001b[0m \u001b[1;36m24\u001b[0m\u001b[1;33m,\u001b[0m \u001b[1;36m48\u001b[0m\u001b[1;33m,\u001b[0m \u001b[1;36m288\u001b[0m\u001b[1;33m,\u001b[0m \u001b[1;36m768\u001b[0m\u001b[1;33m]\u001b[0m\u001b[1;33m\u001b[0m\u001b[1;33m\u001b[0m\u001b[0m\n",
      "\u001b[1;31mTypeError\u001b[0m: unsupported operand type(s) for *: 'float' and 'NoneType'"
     ]
    }
   ],
   "source": [
    "S1.DiffConstants = Out.GetDiffTemp(S1, Temperatures=S1.Temp, TimeScale='Days')    "
   ]
  },
  {
   "cell_type": "markdown",
   "metadata": {},
   "source": [
    "Get the initial number of impurities from model parameters. You are able to get the number of impurities in a variety of units. You can choose between total number of impurities (`'#'`), ratio between number of impurities and number of xenon atoms in the setup (`'ppm','ppb','ppt'`) or the total mass of impurities `'Mass'`. "
   ]
  },
  {
   "cell_type": "code",
   "execution_count": null,
   "metadata": {},
   "outputs": [],
   "source": [
    "S1.InitialImpurities = Out.GetInitialImpurities(S1, Units='#')"
   ]
  },
  {
   "cell_type": "markdown",
   "metadata": {},
   "source": [
    "Define the labels for the plot. This should contain the name of the setup, the temperature and the thickness of the material."
   ]
  },
  {
   "cell_type": "code",
   "execution_count": null,
   "metadata": {},
   "outputs": [],
   "source": [
    "S1.Labels = ['%s, d = %s cm, T = %d K' % (S1.Version, S1.Thickness, 295), '%s, d = %s cm, T = %d K' % (S1.Version, S1.Thickness, 310)]"
   ]
  },
  {
   "cell_type": "markdown",
   "metadata": {},
   "source": [
    "Calculate the number of impurities left in the sample as a function of time by using the solution to the diffusion equation defined in `Outgassing.py`"
   ]
  },
  {
   "cell_type": "code",
   "execution_count": null,
   "metadata": {},
   "outputs": [],
   "source": [
    "S1.Impurities = Out.GetImpuritiesVsTime(Data=S1, TimeScale='Hours')"
   ]
  },
  {
   "cell_type": "markdown",
   "metadata": {},
   "source": [
    "Calculate the outgassing rate as a function of time using Fick's 1st law, which is also defined in `Outgassing.py`"
   ]
  },
  {
   "cell_type": "code",
   "execution_count": null,
   "metadata": {},
   "outputs": [],
   "source": [
    "S1.FlowRate = Out.GetFlowRateVsTime(Data=S1, Units='mBar Liter', TimeScale='Hours')"
   ]
  },
  {
   "cell_type": "markdown",
   "metadata": {},
   "source": [
    "## 4) Plotting\n",
    "Now one can easily plot the number of impurities left in the material and the outgassing rate expected from that material "
   ]
  },
  {
   "cell_type": "code",
   "execution_count": null,
   "metadata": {},
   "outputs": [],
   "source": [
    "PlotImpuritiesVsTime([S1], XRange=[0,20], YRange=[1E15, 1E18], XTicks=2, TimeScale='Days', Size=(10,6))\n",
    "# PlotFlowRateVsTime([S1])"
   ]
  },
  {
   "cell_type": "markdown",
   "metadata": {},
   "source": [
    "You can change the x- and y-ranges, respectively and modifiy the where to display the ticks. Lets change the x-range of our first plot to 0-10 hours and place x-ticks every 1 hour."
   ]
  },
  {
   "cell_type": "code",
   "execution_count": null,
   "metadata": {},
   "outputs": [],
   "source": [
    "PlotImpuritiesVsTime([S1], XRange=[0,10], YRange=[1E17, 1E18], XTicks=2, TimeScale='Days', Size=(10,6))"
   ]
  },
  {
   "cell_type": "markdown",
   "metadata": {},
   "source": [
    "## 6) Run modelling for multiple setups, materials and gas solutes \n",
    "One can also easily define a few different combinations of materials, thicknesses and gases and plot them together. To do this just create an instance of the System class for each setup"
   ]
  },
  {
   "cell_type": "code",
   "execution_count": null,
   "metadata": {},
   "outputs": [],
   "source": [
    "S1 = System(Setup='YLXPS', Material='Teflon', Solute='Oxygen', Version='EXO-Teflon')\n",
    "S2 = System(Setup='YLXPS', Material='Teflon', Solute='Oxygen', Version='Stock-Teflon')\n",
    "S3 = System(Setup='YLXPS', Material='Teflon', Solute='Oxygen', Version='Stock-Teflon Thick')"
   ]
  },
  {
   "cell_type": "markdown",
   "metadata": {},
   "source": [
    "Then we can combine them into one list"
   ]
  },
  {
   "cell_type": "code",
   "execution_count": null,
   "metadata": {},
   "outputs": [],
   "source": [
    "Systems = [S1,S2,S3]"
   ]
  },
  {
   "cell_type": "markdown",
   "metadata": {},
   "source": [
    "Just like before we define the time ranges and the respective temperatures for each range."
   ]
  },
  {
   "cell_type": "code",
   "execution_count": null,
   "metadata": {},
   "outputs": [],
   "source": [
    "Temperature = [295, 340]\n",
    "Time = GetTimeStamps(Points=[0,100,200], Spacing=0.1, TimeScale='Hours')"
   ]
  },
  {
   "cell_type": "markdown",
   "metadata": {},
   "source": [
    "You can create the labels for each setup and temperature automatically by executing"
   ]
  },
  {
   "cell_type": "code",
   "execution_count": null,
   "metadata": {},
   "outputs": [],
   "source": [
    "Labels = GetLabels(Systems, Temperature)"
   ]
  },
  {
   "cell_type": "markdown",
   "metadata": {},
   "source": [
    "Now we have everything together to run the modelling to get the number of impurities and outgassing rates. This function combines all above steps and does them for each element in your list of `Systems`."
   ]
  },
  {
   "cell_type": "code",
   "execution_count": null,
   "metadata": {},
   "outputs": [],
   "source": [
    "DoModelling(Systems, Labels, Temperature, Time)"
   ]
  },
  {
   "cell_type": "markdown",
   "metadata": {},
   "source": [
    "Finally, we can plot both number of impurities and outgassing rates for all setups together"
   ]
  },
  {
   "cell_type": "code",
   "execution_count": null,
   "metadata": {},
   "outputs": [],
   "source": [
    "PlotImpuritiesVsTime(Systems)\n",
    "PlotFlowRateVsTime(Systems, XRange=[0,100])"
   ]
  },
  {
   "cell_type": "markdown",
   "metadata": {},
   "source": [
    "These plot can now be used to assess the effect of outgassing on the purity of a liquid xenon setup. "
   ]
  }
 ],
 "metadata": {
  "kernelspec": {
   "display_name": "Python 3",
   "language": "python",
   "name": "python3"
  },
  "language_info": {
   "codemirror_mode": {
    "name": "ipython",
    "version": 3
   },
   "file_extension": ".py",
   "mimetype": "text/x-python",
   "name": "python",
   "nbconvert_exporter": "python",
   "pygments_lexer": "ipython3",
   "version": "3.8.5"
  }
 },
 "nbformat": 4,
 "nbformat_minor": 2
}
